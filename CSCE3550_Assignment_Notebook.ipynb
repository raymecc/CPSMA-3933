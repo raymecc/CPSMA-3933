{
 "cells": [
  {
   "cell_type": "markdown",
   "id": "bb85590a",
   "metadata": {},
   "source": [
    "# **Jupyter Notebook Basics**\n",
    "\n",
    "### **Name:** Sugam Thapa  \n",
    "### **Class:** CSCE 3550 – Computer Networks/Security  \n",
    "### **Assignment:** Week 1 – Notebook & Python Fundamentals  \n",
    "### **Date:** September 02, 2025\n",
    "\n",
    "---\n",
    "*This notebook was prepared for the class assignment. Each task is separated with clear headings and explanatory text cells (Markdown), followed by code cells where appropriate.*"
   ]
  },
  {
   "cell_type": "markdown",
   "id": "b2426560",
   "metadata": {},
   "source": [
    "## 1) Favorite Function (Markdown)\n",
    "**Favorite built-in function:** `zip`\n",
    "\n",
    "`zip` lets me combine multiple iterables element‑by‑element, which makes data alignment and parallel iteration clean and readable. It helps avoid index bookkeeping and pairs (or triples) related data naturally. I use it in everything from combining feature columns to formatting outputs."
   ]
  },
  {
   "cell_type": "markdown",
   "id": "fdcd9e83",
   "metadata": {},
   "source": [
    "## 2) Define *my own* function and compute values\n",
    "Below I define a small utility function `is_prime(n)` that returns `True` if `n` is a prime number and `False` otherwise. Then I compute a few interesting values with it (including a quick list of primes in a range)."
   ]
  },
  {
   "cell_type": "code",
   "execution_count": null,
   "id": "f7b76cdf",
   "metadata": {},
   "outputs": [],
   "source": [
    "from math import isqrt\n",
    "\n",
    "def is_prime(n: int) -> bool:\n",
    "    \"\"\"Return True if n is prime, else False.\n",
    "    Handles n < 2 as non-prime. Uses trial division up to sqrt(n).\"\"\"\n",
    "    if n < 2:\n",
    "        return False\n",
    "    if n % 2 == 0:\n",
    "        return n == 2\n",
    "    limit = isqrt(n)\n",
    "    f = 3\n",
    "    while f <= limit:\n",
    "        if n % f == 0:\n",
    "            return False\n",
    "        f += 2\n",
    "    return True\n",
    "\n",
    "# Compute a few interesting values\n",
    "numbers = [0, 1, 2, 3, 4, 5, 17, 18, 19, 20, 97, 99, 101]\n",
    "results = {n: is_prime(n) for n in numbers}\n",
    "results"
   ]
  },
  {
   "cell_type": "code",
   "execution_count": null,
   "id": "56a758b0",
   "metadata": {},
   "outputs": [],
   "source": [
    "# A quick list of primes between 2 and 100\n",
    "primes_2_to_100 = [n for n in range(2, 101) if is_prime(n)]\n",
    "primes_2_to_100[:25], len(primes_2_to_100)"
   ]
  },
  {
   "cell_type": "markdown",
   "id": "51b86cfb",
   "metadata": {},
   "source": [
    "## 3) Create a list with at least 10 values (random/creative)\n",
    "I generated **15 integers** using Python's built-in `random` module with a **fixed seed** for reproducibility. The numbers come from a uniform range `[10, 99]`. Then I compute the **sum**, **min**, **max**, and one other interesting metric (the **median**)."
   ]
  },
  {
   "cell_type": "code",
   "execution_count": null,
   "id": "7913b0d7",
   "metadata": {},
   "outputs": [],
   "source": [
    "import random\n",
    "import statistics as stats\n",
    "\n",
    "random.seed(42)  # fixed seed for reproducibility\n",
    "values = [random.randint(10, 99) for _ in range(15)]\n",
    "values"
   ]
  },
  {
   "cell_type": "code",
   "execution_count": null,
   "id": "a02d9d23",
   "metadata": {},
   "outputs": [],
   "source": [
    "total = sum(values)\n",
    "min_v = min(values)\n",
    "max_v = max(values)\n",
    "median_v = stats.median(values)\n",
    "\n",
    "summary = {\n",
    "    \"values\": values,\n",
    "    \"count\": len(values),\n",
    "    \"sum\": total,\n",
    "    \"min\": min_v,\n",
    "    \"max\": max_v,\n",
    "    \"median\": median_v,\n",
    "}\n",
    "summary"
   ]
  },
  {
   "cell_type": "markdown",
   "id": "481da893",
   "metadata": {},
   "source": [
    "## 4) Quick demo: why `zip` is my favorite\n",
    "Here I show how `zip` can neatly align related lists (names, ages) without indexing. Then I convert the zipped pairs into a dictionary."
   ]
  },
  {
   "cell_type": "code",
   "execution_count": null,
   "id": "d369478a",
   "metadata": {},
   "outputs": [],
   "source": [
    "names = [\"Alice\", \"Bob\", \"Cleo\", \"Diego\"]\n",
    "ages  = [23, 31, 27, 29]\n",
    "\n",
    "paired = list(zip(names, ages))\n",
    "as_dict = dict(zip(names, ages))\n",
    "\n",
    "paired, as_dict"
   ]
  },
  {
   "cell_type": "markdown",
   "id": "9f431153",
   "metadata": {},
   "source": [
    "## 5) Wrap-up notes\n",
    "- This notebook demonstrates Markdown headings and explanatory text *separate* from code cells.\n",
    "- It defines a custom function (`is_prime`), runs computations, and calculates descriptive statistics on a list.\n",
    "- It also illustrates how `zip` helps write clean, Pythonic code.\n",
    "\n",
    "***Next steps (outside the notebook):***\n",
    "1. Create a new GitHub repository for this class (e.g., `csce3550-notebooks`).\n",
    "2. Upload this `.ipynb` file to that repository.\n",
    "3. Submit **only** the link to your GitHub repo in Blackboard."
   ]
  }
 ],
 "metadata": {},
 "nbformat": 4,
 "nbformat_minor": 5
}
