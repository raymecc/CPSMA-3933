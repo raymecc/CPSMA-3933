{
  "nbformat": 4,
  "nbformat_minor": 0,
  "metadata": {
    "colab": {
      "provenance": []
    },
    "kernelspec": {
      "name": "python3",
      "display_name": "Python 3"
    },
    "language_info": {
      "name": "python"
    }
  },
  "cells": [
    {
      "cell_type": "markdown",
      "source": [
        "## Rajiv Khati\n",
        "CPSMA-3933 Lab 1"
      ],
      "metadata": {
        "id": "8MLhGQl2nstZ"
      }
    },
    {
      "cell_type": "markdown",
      "source": [
        "# TAXES"
      ],
      "metadata": {
        "id": "PC7Boj2NoLOC"
      }
    },
    {
      "cell_type": "code",
      "execution_count": null,
      "metadata": {
        "colab": {
          "base_uri": "https://localhost:8080/"
        },
        "id": "LT7cxW_x5Fe7",
        "outputId": "38c6452a-3e58-4246-c102-dcbb26c69b44"
      },
      "outputs": [
        {
          "output_type": "stream",
          "name": "stdout",
          "text": [
            "1000.0\n",
            "6307.5\n",
            "42832.0\n",
            "182332.0\n"
          ]
        }
      ],
      "source": [
        "def compute_tax(income):\n",
        "    \"\"\"\n",
        "    Compute US federal income tax (2023 rates, single filer).\n",
        "    \"\"\"\n",
        "    if income <= 11000:\n",
        "        tax = 0.10 * income\n",
        "    elif income <= 44725:\n",
        "        tax = 1100 + 0.12 * (income - 11000)\n",
        "    elif income <= 95375:\n",
        "        tax = 5147 + 0.22 * (income - 44725)\n",
        "    elif income <= 182100:\n",
        "        tax = 16290 + 0.24 * (income - 95375)\n",
        "    elif income <= 231250:\n",
        "        tax = 37104 + 0.32 * (income - 182100)\n",
        "    elif income <= 578125:\n",
        "        tax = 52832 + 0.35 * (income - 231250)\n",
        "    else:\n",
        "        tax = 174238.25 + 0.37 * (income - 578125)\n",
        "    return tax\n",
        "\n",
        "print(compute_tax(10000))\n",
        "print(compute_tax(50000))\n",
        "print(compute_tax(200000))\n",
        "print(compute_tax(600000))"
      ]
    },
    {
      "cell_type": "markdown",
      "source": [
        "# LISTS"
      ],
      "metadata": {
        "id": "1HCK1RX2oY0q"
      }
    },
    {
      "cell_type": "code",
      "source": [
        "import math\n",
        "import sympy as sp\n",
        "\n",
        "# List of h values\n",
        "h = [1, 0.1, 0.001, 0.002, 0.0001, 0.000000001]\n",
        "\n",
        "print(\"Approximations of derivative of ln(x) at x=1:\")\n",
        "for val in h:\n",
        "    derivative_approx = math.log(1 + val) / val\n",
        "    print(f\"h = {val} -> {derivative_approx}\")\n",
        "\n",
        "# Extra challenge with sympy\n",
        "x = sp.symbols('x')\n",
        "derivative = sp.diff(sp.log(x), x).subs(x, 1)\n",
        "print(\"\\nUsing sympy, derivative of ln(x) at x=1:\", derivative)\n"
      ],
      "metadata": {
        "colab": {
          "base_uri": "https://localhost:8080/"
        },
        "id": "MBLQpXEs8JUv",
        "outputId": "b5368dad-d54e-4dda-f4ca-003d11c85856"
      },
      "execution_count": null,
      "outputs": [
        {
          "output_type": "stream",
          "name": "stdout",
          "text": [
            "Approximations of derivative of ln(x) at x=1:\n",
            "h = 1 -> 0.6931471805599453\n",
            "h = 0.1 -> 0.9531017980432493\n",
            "h = 0.001 -> 0.9995003330834232\n",
            "h = 0.002 -> 0.9990013313365289\n",
            "h = 0.0001 -> 0.9999500033329731\n",
            "h = 1e-09 -> 1.000000082240371\n",
            "\n",
            "Using sympy, derivative of ln(x) at x=1: 1\n"
          ]
        }
      ]
    },
    {
      "cell_type": "markdown",
      "source": [
        "# TRUTH OF SUMMATION"
      ],
      "metadata": {
        "id": "1j6SkI_Dodfz"
      }
    },
    {
      "cell_type": "code",
      "source": [
        "def verify_sum(limit=1000):\n",
        "    for n in range(limit+1):\n",
        "        left = sum(i**3 for i in range(n+1))\n",
        "        right = (n*(n+1)//2)**2\n",
        "        if left != right:\n",
        "            return False  # fails for some n\n",
        "    return True  # holds for all n up to limit\n",
        "\n",
        "print(\"Summation formula valid for all n ≤ 1000?\", verify_sum(1000))\n"
      ],
      "metadata": {
        "colab": {
          "base_uri": "https://localhost:8080/"
        },
        "id": "EYvxu0rP-69O",
        "outputId": "58f81ad3-0516-4d76-d157-f56a31eb4e30"
      },
      "execution_count": null,
      "outputs": [
        {
          "output_type": "stream",
          "name": "stdout",
          "text": [
            "Summation formula valid for all n ≤ 1000? True\n"
          ]
        }
      ]
    }
  ]
}