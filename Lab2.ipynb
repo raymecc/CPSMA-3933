{
  "nbformat": 4,
  "nbformat_minor": 0,
  "metadata": {
    "colab": {
      "provenance": []
    },
    "kernelspec": {
      "name": "python3",
      "display_name": "Python 3"
    },
    "language_info": {
      "name": "python"
    }
  },
  "cells": [
    {
      "cell_type": "markdown",
      "source": [
        "# Factorial"
      ],
      "metadata": {
        "id": "DbHQ0-CFwrdi"
      }
    },
    {
      "cell_type": "markdown",
      "source": [
        "Zeros in 1000!"
      ],
      "metadata": {
        "id": "yiLuGgtDzyo5"
      }
    },
    {
      "cell_type": "code",
      "source": [
        "def trailing_zeros(n):\n",
        "    count = 0\n",
        "    while n >= 5:  # Keep going as long as n is at least 5\n",
        "        n = n // 5  # Divide n by 5 (integer division, like floor)\n",
        "        count += n  # Add the new n to the count\n",
        "    return count\n",
        "\n",
        "print(trailing_zeros(1000))  # Output"
      ],
      "metadata": {
        "colab": {
          "base_uri": "https://localhost:8080/"
        },
        "id": "wKthLDXawid9",
        "outputId": "68ef84cb-de7e-4c78-9782-3acad2afb07b"
      },
      "execution_count": 3,
      "outputs": [
        {
          "output_type": "stream",
          "name": "stdout",
          "text": [
            "249\n"
          ]
        }
      ]
    },
    {
      "cell_type": "markdown",
      "source": [
        "We can see there are 249 zeros in 1000!"
      ],
      "metadata": {
        "id": "RluhzxZbw2mW"
      }
    },
    {
      "cell_type": "markdown",
      "source": [
        "# Big Numbers"
      ],
      "metadata": {
        "id": "VHM2rCj0xDTB"
      }
    },
    {
      "cell_type": "markdown",
      "source": [
        "Find the sum of the digits of (100^13 - 26)"
      ],
      "metadata": {
        "id": "koMXdefRziiQ"
      }
    },
    {
      "cell_type": "code",
      "source": [
        "#Calculate the number\n",
        "x = 100**13 - 26\n",
        "\n",
        "# Convert to string and split into digits\n",
        "list_of_digits = [int(digit) for digit in str(x)]\n",
        "\n",
        "# Sum the digits\n",
        "digit_sum = sum(list_of_digits)\n",
        "\n",
        "# Show results\n",
        "print(\"Number:\", x)\n",
        "print(\"Digits:\", list_of_digits)\n",
        "print(\"Sum of digits:\", digit_sum)\n"
      ],
      "metadata": {
        "colab": {
          "base_uri": "https://localhost:8080/"
        },
        "id": "yBrhdUCwyAXZ",
        "outputId": "00ecf8cc-84ee-4a1a-b812-252886fb8839"
      },
      "execution_count": 4,
      "outputs": [
        {
          "output_type": "stream",
          "name": "stdout",
          "text": [
            "Number: 99999999999999999999999974\n",
            "Digits: [9, 9, 9, 9, 9, 9, 9, 9, 9, 9, 9, 9, 9, 9, 9, 9, 9, 9, 9, 9, 9, 9, 9, 9, 7, 4]\n",
            "Sum of digits: 227\n"
          ]
        }
      ]
    },
    {
      "cell_type": "markdown",
      "source": [
        "# Handshakes"
      ],
      "metadata": {
        "id": "pcxWxsaQ0nAD"
      }
    },
    {
      "cell_type": "code",
      "source": [
        "team_size = 11\n",
        "handshakes_between_teams = team_size * team_size\n",
        "\n",
        "handshakes_within_winning_team = team_size * (team_size - 1) // 2\n",
        "\n",
        "total_handshakes = handshakes_between_teams + handshakes_within_winning_team\n",
        "\n",
        "\n",
        "print(\"Handshakes between teams:\", handshakes_between_teams)\n",
        "print(\"Handshakes within winning team:\", handshakes_within_winning_team)\n",
        "print(\"Total handshakes:\", total_handshakes)"
      ],
      "metadata": {
        "colab": {
          "base_uri": "https://localhost:8080/"
        },
        "id": "4_OPDb5p4oVG",
        "outputId": "dbcbb1d1-14af-4b0d-e07b-b1fc05e36357"
      },
      "execution_count": 8,
      "outputs": [
        {
          "output_type": "stream",
          "name": "stdout",
          "text": [
            "Handshakes between teams: 121\n",
            "Handshakes within winning team: 55\n",
            "Total handshakes: 176\n"
          ]
        }
      ]
    },
    {
      "cell_type": "markdown",
      "source": [
        "# Harder Handshakers"
      ],
      "metadata": {
        "id": "nziJ7jdm1rOP"
      }
    },
    {
      "cell_type": "code",
      "source": [
        "def mr_smith_handshakes(n_couples: int) -> int:\n",
        "\n",
        "    return n_couples - 1\n",
        "\n",
        "\n",
        "print(mr_smith_handshakes(5))\n"
      ],
      "metadata": {
        "colab": {
          "base_uri": "https://localhost:8080/"
        },
        "id": "ZgxLXsnD1wcO",
        "outputId": "121cb0ab-3b47-4942-b0a9-c7cbed5693d5"
      },
      "execution_count": 11,
      "outputs": [
        {
          "output_type": "stream",
          "name": "stdout",
          "text": [
            "4\n"
          ]
        }
      ]
    },
    {
      "cell_type": "markdown",
      "source": [
        "At the party there are n couples, which makes 2n people in total. No one shakes hands with their own spouse, and no one shakes the same hand twice. When Mr. Smith asks the other (2n − 1) people how many hands they shook, he receives all different answers. The possible answers must be 0, 1, 2, …, up to (2n − 2). These answers come in pairs that always add up to (2n − 2), such as (0 and 2n−2), (1 and 2n−3), (2 and 2n−4), and so on. The only number that does not pair with another is the middle value, which is (n − 1). That number must belong to Mrs. Smith, and therefore Mr. Smith also shook (n − 1) hands.\n"
      ],
      "metadata": {
        "id": "jQplrq3a5QVQ"
      }
    }
  ]
}