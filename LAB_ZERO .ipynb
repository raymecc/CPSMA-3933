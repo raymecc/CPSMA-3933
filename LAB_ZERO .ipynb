{
  "nbformat": 4,
  "nbformat_minor": 0,
  "metadata": {
    "colab": {
      "provenance": []
    },
    "kernelspec": {
      "name": "python3",
      "display_name": "Python 3"
    },
    "language_info": {
      "name": "python"
    }
  },
  "cells": [
    {
      "cell_type": "markdown",
      "source": [
        "# Name: Rajiv Khati\n",
        "\n",
        "#Class: Fall 2025 Operations Research (CPSMA-3933-01)\n",
        "\n",
        "#Assignment: Lab 0\n",
        "\n",
        "#Date : Septenber 2, 2025\n",
        "\n",
        "---\n",
        "\n",
        "\n",
        "\n",
        "---\n",
        "\n",
        "\n",
        "\n",
        "---\n",
        "\n",
        "\n",
        "\n",
        "\n"
      ],
      "metadata": {
        "id": "mRA4HxKZ1SSO"
      }
    },
    {
      "cell_type": "markdown",
      "source": [
        "# **My favourite function is print() function because this is the first function that i learned in school. It allows to display message and result on screen which makes easier to undrestand what is code doing.**"
      ],
      "metadata": {
        "id": "LVMF7uQK5McL"
      }
    },
    {
      "cell_type": "code",
      "source": [
        "# Using the print() function to show text\n",
        "print(\"Hello, world! This is my first Python output.\")\n",
        "\n",
        "# Using print() to display numbers\n",
        "print(\"The sum of 5 + 10 is:\", 7 + 5)\n",
        "\n",
        "# Using print() in a loop\n",
        "for i in range(3):\n",
        "    print(\"This is line number\", i+1)\n"
      ],
      "metadata": {
        "colab": {
          "base_uri": "https://localhost:8080/"
        },
        "id": "cX5toVrI6K8w",
        "outputId": "dbfe568b-5a09-4e02-9848-27f7aff1241d"
      },
      "execution_count": 2,
      "outputs": [
        {
          "output_type": "stream",
          "name": "stdout",
          "text": [
            "Hello, world! This is my first Python output.\n",
            "The sum of 5 + 10 is: 12\n",
            "This is line number 1\n",
            "This is line number 2\n",
            "This is line number 3\n"
          ]
        }
      ]
    },
    {
      "cell_type": "markdown",
      "source": [
        "\n",
        "Python has a random module which I used to generate a list of 10 random numbers [1-100].  \n",
        "It is an innovative method of counting without writing by hand.  \n",
        "Then I figured out the maximum, minimum, the sum and the average of the list.\n"
      ],
      "metadata": {
        "id": "bqoIUEmU72ny"
      }
    },
    {
      "cell_type": "code",
      "source": [
        "import random\n",
        "\n",
        "# Generate 10 random integers between 1 and 100\n",
        "values = [random.randint(1, 100) for _ in range(10)]\n",
        "print(\"Values:\", values)\n",
        "\n",
        "# Compute required statistics\n",
        "print(\"Sum:\", sum(values))\n",
        "print(\"Min:\", min(values))\n",
        "print(\"Max:\", max(values))\n",
        "print(\"Average:\", sum(values)/len(values))\n"
      ],
      "metadata": {
        "colab": {
          "base_uri": "https://localhost:8080/"
        },
        "id": "ss-852ga8l92",
        "outputId": "a45aa4d3-4810-49b4-be73-27d2d32f9c51"
      },
      "execution_count": 3,
      "outputs": [
        {
          "output_type": "stream",
          "name": "stdout",
          "text": [
            "Values: [12, 48, 13, 79, 25, 47, 45, 5, 33, 92]\n",
            "Sum: 399\n",
            "Min: 5\n",
            "Max: 92\n",
            "Average: 39.9\n"
          ]
        }
      ]
    }
  ]
}