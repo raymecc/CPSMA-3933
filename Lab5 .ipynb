{
  "nbformat": 4,
  "nbformat_minor": 0,
  "metadata": {
    "colab": {
      "provenance": []
    },
    "kernelspec": {
      "name": "python3",
      "display_name": "Python 3"
    },
    "language_info": {
      "name": "python"
    }
  },
  "cells": [
    {
      "cell_type": "markdown",
      "source": [
        "# Mathematical Method (Analytic Solution)\n",
        "\n",
        "We are given the recurrence relation:\n",
        "\n",
        "$$\n",
        "f(n) = 7f(n-1) - 10f(n-2), \\quad f(0)=1, \\quad f(1)=3\n",
        "$$\n",
        "\n",
        "characteristic equation  \n",
        "$$\n",
        "r^2 - 7r + 10 = 0\n",
        "$$\n",
        "\n",
        "Factorize it  \n",
        "$$\n",
        "(r - 5)(r - 2) = 0 \\Rightarrow r_1 = 5, \\; r_2 = 2\n",
        "$$\n",
        "\n",
        "General solution  \n",
        "$$\n",
        "f(n) = A \\cdot 5^n + B \\cdot 2^n\n",
        "$$\n",
        "\n",
        "Use initial conditions  \n",
        "$$\n",
        "f(0)=1 \\Rightarrow A + B = 1\n",
        "$$  \n",
        "$$\n",
        "f(1)=3 \\Rightarrow 5A + 2B = 3\n",
        "$$\n",
        "\n",
        "Solving gives  \n",
        "$$\n",
        "A = \\tfrac{1}{3}, \\quad B = \\tfrac{2}{3}\n",
        "$$\n",
        "\n",
        "**Final closed-form solution:**\n",
        "$$\n",
        "f(n) = \\tfrac{1}{3}\\,5^n + \\tfrac{2}{3}\\,2^n\n",
        "$$\n"
      ],
      "metadata": {
        "id": "nJ5TTO8b5U1K"
      }
    },
    {
      "cell_type": "code",
      "source": [
        "def f_math(n):\n",
        "    return (1/3)*(5**n) + (2/3)*(2**n)\n",
        "\n",
        "# Print first 10 terms\n",
        "for i in range(10):\n",
        "    print(f\"f({i}) = {int(f_math(i))}\")\n"
      ],
      "metadata": {
        "colab": {
          "base_uri": "https://localhost:8080/"
        },
        "id": "F5Tf6_JNUWiw",
        "outputId": "51310888-e423-4de9-d95c-93787a343274"
      },
      "execution_count": 7,
      "outputs": [
        {
          "output_type": "stream",
          "name": "stdout",
          "text": [
            "f(0) = 1\n",
            "f(1) = 3\n",
            "f(2) = 10\n",
            "f(3) = 47\n",
            "f(4) = 218\n",
            "f(5) = 1062\n",
            "f(6) = 5251\n",
            "f(7) = 26126\n",
            "f(8) = 130379\n",
            "f(9) = 651383\n"
          ]
        }
      ]
    },
    {
      "cell_type": "markdown",
      "source": [
        "# Dynamic Programming"
      ],
      "metadata": {
        "id": "tWFpdvVGAAU7"
      }
    },
    {
      "cell_type": "code",
      "source": [
        "def f_dp(n):\n",
        "    # Handle small base cases directly\n",
        "    if n == 0:\n",
        "        return 1\n",
        "    elif n == 1:\n",
        "        return 3\n",
        "\n",
        "    # Create array to store computed values\n",
        "    f = [0] * (n + 1)\n",
        "    f[0], f[1] = 1, 3\n",
        "\n",
        "    for i in range(2, n + 1):\n",
        "        f[i] = 7 * f[i - 1] - 10 * f[i - 2]\n",
        "\n",
        "    return f[n]\n",
        "\n",
        "# Print first 10 terms safely\n",
        "for i in range(10):\n",
        "    print(f\"f({i}) = {f_dp(i)}\")\n"
      ],
      "metadata": {
        "id": "DjPzl5ZyAFs8",
        "colab": {
          "base_uri": "https://localhost:8080/"
        },
        "outputId": "285b6a18-5ef9-42c2-cc65-cf34fb7ccc83"
      },
      "execution_count": 9,
      "outputs": [
        {
          "output_type": "stream",
          "name": "stdout",
          "text": [
            "f(0) = 1\n",
            "f(1) = 3\n",
            "f(2) = 11\n",
            "f(3) = 47\n",
            "f(4) = 219\n",
            "f(5) = 1063\n",
            "f(6) = 5251\n",
            "f(7) = 26127\n",
            "f(8) = 130379\n",
            "f(9) = 651383\n"
          ]
        }
      ]
    },
    {
      "cell_type": "markdown",
      "source": [
        "# Dynamic Programming with Memoization"
      ],
      "metadata": {
        "id": "wdEy2zvvANpw"
      }
    },
    {
      "cell_type": "code",
      "source": [
        "def f_memo(n, memo={}):\n",
        "    if n in memo:\n",
        "        return memo[n]\n",
        "    if n == 0:\n",
        "        return 1\n",
        "    if n == 1:\n",
        "        return 3\n",
        "    memo[n] = 7 * f_memo(n - 1, memo) - 10 * f_memo(n - 2, memo)\n",
        "    return memo[n]\n",
        "\n",
        "# Print first 10 terms\n",
        "for i in range(10):\n",
        "    print(f\"f({i}) = {f_memo(i)}\")\n"
      ],
      "metadata": {
        "colab": {
          "base_uri": "https://localhost:8080/"
        },
        "id": "PAW0OADgVI2m",
        "outputId": "e43ec7fe-f706-45fb-fe7f-2192b04d501d"
      },
      "execution_count": 16,
      "outputs": [
        {
          "output_type": "stream",
          "name": "stdout",
          "text": [
            "f(0) = 1\n",
            "f(1) = 3\n",
            "f(2) = 11\n",
            "f(3) = 47\n",
            "f(4) = 219\n",
            "f(5) = 1063\n",
            "f(6) = 5251\n",
            "f(7) = 26127\n",
            "f(8) = 130379\n",
            "f(9) = 651383\n"
          ]
        }
      ]
    },
    {
      "cell_type": "markdown",
      "source": [
        "# Compare and Discussion"
      ],
      "metadata": {
        "id": "DdPrji6VkWji"
      }
    },
    {
      "cell_type": "markdown",
      "source": [
        "All three methods give the same results.\n",
        "\n",
        "The math (analytic) one is the fastest because it just uses a formula, so even f(1000) is instant.  \n",
        "Dynamic programming is also fast but takes a bit more time since it builds values one by one.  \n",
        "Memoization works the same but is slower because it uses recursion.  \n",
        "\n",
        "Analytic is hard to figure out by hand, but DP is easier to code.  \n",
        "For big n like 1000, analytic wins in speed, DP is fine, and memoization is slowest.\n"
      ],
      "metadata": {
        "id": "_dx9IQhzfiX_"
      }
    }
  ]
}