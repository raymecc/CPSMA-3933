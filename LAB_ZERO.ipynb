{
  "nbformat": 4,
  "nbformat_minor": 0,
  "metadata": {
    "colab": {
      "provenance": []
    },
    "kernelspec": {
      "name": "python3",
      "display_name": "Python 3"
    },
    "language_info": {
      "name": "python"
    }
  },
  "cells": [
    {
      "cell_type": "markdown",
      "source": [
        "Name: Rajiv Khati\n",
        "\n",
        "Class: Fall 2025 Operations Research (CPSMA-3933-01)\n",
        "\n",
        "Assignment: Lab 0\n",
        "\n",
        "Date : Septenber 2, 2025"
      ],
      "metadata": {
        "id": "mRA4HxKZ1SSO"
      }
    },
    {
      "cell_type": "code",
      "source": [],
      "metadata": {
        "id": "q-vDKKan1jNb"
      },
      "execution_count": null,
      "outputs": []
    }
  ]
}